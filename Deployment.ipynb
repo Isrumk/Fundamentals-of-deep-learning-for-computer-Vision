{
  "nbformat": 4,
  "nbformat_minor": 0,
  "metadata": {
    "kernelspec": {
      "display_name": "Python 2",
      "language": "python",
      "name": "python2"
    },
    "language_info": {
      "codemirror_mode": {
        "name": "ipython",
        "version": 2
      },
      "file_extension": ".py",
      "mimetype": "text/x-python",
      "name": "python",
      "nbconvert_exporter": "python",
      "pygments_lexer": "ipython2",
      "version": "2.7.12"
    },
    "colab": {
      "name": "Deployment.ipynb",
      "version": "0.3.2",
      "provenance": [],
      "include_colab_link": true
    }
  },
  "cells": [
    {
      "cell_type": "markdown",
      "metadata": {
        "id": "view-in-github",
        "colab_type": "text"
      },
      "source": [
        "<a href=\"https://colab.research.google.com/github/Isrumk/Fundamentals-of-deep-learning-for-computer-Vision/blob/master/Deployment.ipynb\" target=\"_parent\"><img src=\"https://colab.research.google.com/assets/colab-badge.svg\" alt=\"Open In Colab\"/></a>"
      ]
    },
    {
      "cell_type": "markdown",
      "metadata": {
        "id": "xDhi9on1Vwdr",
        "colab_type": "text"
      },
      "source": [
        "<a href=\"https://www.nvidia.com/en-us/deep-learning-ai/education/\"> <img src=\"images/DLI Header.png\" alt=\"Header\" style=\"width: 400px;\"/> </a>"
      ]
    },
    {
      "cell_type": "markdown",
      "metadata": {
        "id": "TtbJELadVwds",
        "colab_type": "text"
      },
      "source": [
        "# Deployment\n",
        "\n",
        "## Which files constitute a \"model\"?\n",
        "\n",
        "We make a trained network useful by removing it from its training environment and \"deploying\" it into an application. Start where we left off in DIGITS.\n",
        "\n",
        "DIGITS places the files we need to deploy in a directory that can either be downloaded or just pointed to. Since we're going to be deploying our model on the same server where it was trained, we can just point to the folder path that DIGITS generates.\n",
        "\n",
        "### <a href=\"/digits\">Open DIGITS</a>.\n",
        "\n",
        "From DIGITS home page, select the model that we named \"Dogs vs. Cats\".\n",
        "\n",
        "DIGITS' \"Job Page\" for the model is what you see as soon as you create the model, when it is training, and/or if you select the model under DIGITS' \"model\" tab. The Job Directory is in the top left.\n",
        "\n",
        "![](images/ModelJobView.PNG)\n",
        "\n",
        "**Copy the job directory (highlighted above) and replace ##FIXME## in the code block below. Once you've copied the directory, execute the cell (Shift+Enter) to store it to the variable <code>MODEL_JOB_DIR</code>**"
      ]
    },
    {
      "cell_type": "code",
      "metadata": {
        "id": "an3oL8inVwdt",
        "colab_type": "code",
        "colab": {},
        "outputId": "e81004d2-6691-4643-be10-ab71fa5c7e3e"
      },
      "source": [
        "MODEL_JOB_DIR = '/dli/data/digits/20180301-185638-e918'  ## Remember to set this to be the job directory for your model\n",
        "!ls $MODEL_JOB_DIR"
      ],
      "execution_count": 0,
      "outputs": [
        {
          "output_type": "stream",
          "text": [
            "caffe_output.log   snapshot_iter_735.caffemodel   status.pickle\r\n",
            "deploy.prototxt    snapshot_iter_735.solverstate  train_val.prototxt\r\n",
            "original.prototxt  solver.prototxt\r\n"
          ],
          "name": "stdout"
        }
      ]
    },
    {
      "cell_type": "markdown",
      "metadata": {
        "id": "C2dOC4s3Vwdw",
        "colab_type": "text"
      },
      "source": [
        "Assuming you copied and pasted well, you will see a list of all files in that directory. If the following instructions do not match what you're seeing, check the copy/paste directions.\n",
        "\n",
        "Again, our \"model\" consists of two files: the architecture and the weights. \n",
        "\n",
        "The architecture is the file called ```deploy.prototxt``` and the weights are in the most recent snapshot file ```snapshot_iter_#.caffemodel.```In this case, snapshot number 735 contains the weights learned after all 5 epochs."
      ]
    },
    {
      "cell_type": "code",
      "metadata": {
        "id": "Tiuq_cJBVwdw",
        "colab_type": "code",
        "colab": {}
      },
      "source": [
        "ARCHITECTURE = MODEL_JOB_DIR + '/' + 'deploy.prototxt'\n",
        "WEIGHTS = MODEL_JOB_DIR + '/' + 'snapshot_iter_735.caffemodel'\n",
        "print (\"Filepath to Architecture = \" + ARCHITECTURE)\n",
        "print(\"Filepath to weights = \"+ WEIGHTS)"
      ],
      "execution_count": 0,
      "outputs": []
    },
    {
      "cell_type": "markdown",
      "metadata": {
        "id": "t1a3bnmDVwdy",
        "colab_type": "text"
      },
      "source": [
        "Next, we need to make sure that the program that we're building can both read and process those files. For this basic type of deployment, we'll need to install (or include) the framework that they were written in to be able to interpret them. We'll learn to deploy to environments that don't require installing the framework later in this course. We'll also need to use the GPU to take advantage of parallel processing. Again, our model consists of hundreds of thousands of operations that can be largely accelerated through parallelization. "
      ]
    },
    {
      "cell_type": "code",
      "metadata": {
        "id": "st-ol3s0Vwdy",
        "colab_type": "code",
        "colab": {}
      },
      "source": [
        "import caffe\n",
        "caffe.set_mode_gpu()"
      ],
      "execution_count": 0,
      "outputs": []
    },
    {
      "cell_type": "markdown",
      "metadata": {
        "id": "n5ijMuAnVwd0",
        "colab_type": "text"
      },
      "source": [
        "Next, we'll create a \"Classifier\" object called \"net\". The more common the workflow, the easier existing tools will make your project. In this case, image classification is very common, so this next code block simply takes your architecture file and weights file and a bit about the data and makes common actions easy. "
      ]
    },
    {
      "cell_type": "code",
      "metadata": {
        "id": "YYMQPDs3Vwd1",
        "colab_type": "code",
        "colab": {},
        "outputId": "4eeedbf2-6b06-4d68-ff9c-8c1ade377f4a"
      },
      "source": [
        "# Initialize the Caffe model using the model trained in DIGITS\n",
        "net = caffe.Classifier(ARCHITECTURE, WEIGHTS,  \n",
        "                       channel_swap =(2, 1, 0), #Color images have three channels, Red, Green, and Blue.\n",
        "                       raw_scale=255) #Each pixel value is a number between 0 and 255\n",
        "                       #Each \"channel\" of our images are 256 x 256 "
      ],
      "execution_count": 0,
      "outputs": [
        {
          "output_type": "error",
          "ename": "NameError",
          "evalue": "name 'ARCHITECTURE' is not defined",
          "traceback": [
            "\u001b[0;31m\u001b[0m",
            "\u001b[0;31mNameError\u001b[0mTraceback (most recent call last)",
            "\u001b[0;32m<ipython-input-3-b1593b3e738a>\u001b[0m in \u001b[0;36m<module>\u001b[0;34m()\u001b[0m\n\u001b[1;32m      1\u001b[0m \u001b[0;31m# Initialize the Caffe model using the model trained in DIGITS\u001b[0m\u001b[0;34m\u001b[0m\u001b[0;34m\u001b[0m\u001b[0m\n\u001b[0;32m----> 2\u001b[0;31m net = caffe.Classifier(ARCHITECTURE, WEIGHTS,  \n\u001b[0m\u001b[1;32m      3\u001b[0m                        \u001b[0mchannel_swap\u001b[0m \u001b[0;34m=\u001b[0m\u001b[0;34m(\u001b[0m\u001b[0;36m2\u001b[0m\u001b[0;34m,\u001b[0m \u001b[0;36m1\u001b[0m\u001b[0;34m,\u001b[0m \u001b[0;36m0\u001b[0m\u001b[0;34m)\u001b[0m\u001b[0;34m,\u001b[0m \u001b[0;31m#Color images have three channels, Red, Green, and Blue.\u001b[0m\u001b[0;34m\u001b[0m\u001b[0m\n\u001b[1;32m      4\u001b[0m                        raw_scale=255) #Each pixel value is a number between 0 and 255\n\u001b[1;32m      5\u001b[0m                        \u001b[0;31m#Each \"channel\" of our images are 256 x 256\u001b[0m\u001b[0;34m\u001b[0m\u001b[0;34m\u001b[0m\u001b[0m\n",
            "\u001b[0;31mNameError\u001b[0m: name 'ARCHITECTURE' is not defined"
          ]
        }
      ]
    },
    {
      "cell_type": "markdown",
      "metadata": {
        "id": "E3PHDJNSVwd2",
        "colab_type": "text"
      },
      "source": [
        "The Classifier class includes a method called \"predict\", which takes an input of an image as defined above and generates an output of the likelihood of the image belonging to each category.\n",
        "\n",
        "\n",
        "## Creating an Expected Input: Preprocessing\n",
        "\n",
        "To start with something easy, let's attempt to correctly classify a labeled image from the dataset. We can load the image and view it by running the cell below."
      ]
    },
    {
      "cell_type": "code",
      "metadata": {
        "id": "yhhleajtVwd3",
        "colab_type": "code",
        "colab": {}
      },
      "source": [
        "import matplotlib.pyplot as plt #matplotlib.pyplot allows us to visualize results\n",
        "input_image= caffe.io.load_image('/dli/data/dogscats/train/cats/cat.10941.jpg')\n",
        "plt.imshow(input_image)\n",
        "plt.show()"
      ],
      "execution_count": 0,
      "outputs": []
    },
    {
      "cell_type": "markdown",
      "metadata": {
        "id": "7MRoCWnJVwd4",
        "colab_type": "text"
      },
      "source": [
        "While this is the image we have, it is not the 'input' the network expects. \n",
        "\n",
        "To prepare data for inference, we're going to follow one golden rule:<pre>Whatever was done prior to training must be done prior to inference</pre>\n",
        "\n",
        "In the last section, you saw the files that were generated when DIGITS trained your model. In this section, we'll examine the files generated when DIGITS created your dataset.\n",
        "\n",
        "The job directory for the **dataset** you just trained from is found by selecting the dataset from the model page \"Dogs and Cats\" and/or if you select the dataset under DIGITS' \"dataset\" tab. It's in the same place it was for the model, but should be a different number.\n",
        "\n",
        "![](images/datasetjobdir.PNG)\n",
        "\n",
        "Replace ##FIXME## with it and execute the code below to set DATA_JOB_DIR to the right filepath and examine what's inside:"
      ]
    },
    {
      "cell_type": "code",
      "metadata": {
        "id": "W7CnaE84Vwd5",
        "colab_type": "code",
        "colab": {}
      },
      "source": [
        "DATA_JOB_DIR = '##FIXME##'  ## Remember to set this to be the job directory for your model\n",
        "!ls $DATA_JOB_DIR"
      ],
      "execution_count": 0,
      "outputs": []
    },
    {
      "cell_type": "markdown",
      "metadata": {
        "id": "QnNJPJeWVwd7",
        "colab_type": "text"
      },
      "source": [
        "Again, there is more information here than you need (for now). There is an infinite amount that you *could* know about data science and data prep which will become clear as you work through a variety of deep learning problems. In this case, DIGITS did two steps prior to training. We call this *preprocessing.*\n",
        "\n",
        "1) DIGITS resized the images to 256X256 color images  "
      ]
    },
    {
      "cell_type": "code",
      "metadata": {
        "id": "Cbi1jClPVwd7",
        "colab_type": "code",
        "colab": {}
      },
      "source": [
        "import cv2\n",
        "input_image=cv2.resize(input_image, (256, 256), 0,0)\n",
        "plt.imshow(input_image)\n",
        "plt.show()"
      ],
      "execution_count": 0,
      "outputs": []
    },
    {
      "cell_type": "markdown",
      "metadata": {
        "id": "MRmXSFceVwd9",
        "colab_type": "text"
      },
      "source": [
        "2) DIGITS *normalized* the images by subtracting the mean image from each image to reduce the computation necessary to train. \n",
        "\n",
        "Load the mean image and subtract it from the test image below:"
      ]
    },
    {
      "cell_type": "code",
      "metadata": {
        "id": "EQcc5jB2Vwd-",
        "colab_type": "code",
        "colab": {}
      },
      "source": [
        "mean_image = caffe.io.load_image(DATA_JOB_DIR+'/mean.jpg')\n",
        "ready_image = input_image-mean_image"
      ],
      "execution_count": 0,
      "outputs": []
    },
    {
      "cell_type": "markdown",
      "metadata": {
        "id": "KMg0r024VweA",
        "colab_type": "text"
      },
      "source": [
        "We've now taken data as it was and converted it into data that our network expects. Next, let's see what output our network creates.\n",
        "\n",
        "## Forward Propagation: Using your model\n",
        "\n",
        "This is what we care about. Let's take a look at the function:   \n",
        "<code>prediction = net.predict([grid_square])</code>.\n",
        "\n",
        "Like any [function](https://www.khanacademy.org/computing/computer-programming/programming#functions), <code>net.predict</code> passes an input, <code>ready_image</code>, and returns an output, <code>prediction</code>. Unlike other functions, this function isn't following a list of steps, instead, it's performing layer after layer of matrix math to transform an image into a vector of probabilities.  \n",
        "\n",
        "Run the cell below to see the prediction from labeled the labeled data above."
      ]
    },
    {
      "cell_type": "code",
      "metadata": {
        "id": "yn47c2-DVweA",
        "colab_type": "code",
        "colab": {}
      },
      "source": [
        "# make prediction\n",
        "prediction = net.predict([ready_image])\n",
        "print prediction"
      ],
      "execution_count": 0,
      "outputs": []
    },
    {
      "cell_type": "markdown",
      "metadata": {
        "id": "bq2KLKNAVweC",
        "colab_type": "text"
      },
      "source": [
        "Interesting, but doesn't contain all that much information. Our network took a normalized 256x256 color image and generated a vector of length 2.\n",
        "\n",
        "## Generating a useful output: Postprocessing\n",
        "\n",
        "At this point, we can really build whatever we want. Your only limit is your programming experience. Before getting creative, let's build something basic. This code will determine whether our network output a higher value for the likelihood of \"dog\" than it did for \"cat.\" If so, it will display an image that would be appropriate if a dog approached our simulated doggy door. If not, the image represents what we'd want to happen if our network determined a cat was at the door."
      ]
    },
    {
      "cell_type": "code",
      "metadata": {
        "id": "TDxZeiNaVweD",
        "colab_type": "code",
        "colab": {}
      },
      "source": [
        "print(\"Input image:\")\n",
        "plt.imshow(input_image)\n",
        "plt.show()\n",
        "\n",
        "print(\"Output:\")\n",
        "if prediction.argmax()==0:\n",
        "    print \"Sorry cat:( https://media.giphy.com/media/jb8aFEQk3tADS/giphy.gif\"\n",
        "else:\n",
        "    print \"Welcome dog! https://www.flickr.com/photos/aidras/5379402670\""
      ],
      "execution_count": 0,
      "outputs": []
    },
    {
      "cell_type": "markdown",
      "metadata": {
        "id": "fOrzZ5laVweE",
        "colab_type": "text"
      },
      "source": [
        "Here, now is everything in one place so you can test with an image that a doggy door might see."
      ]
    },
    {
      "cell_type": "code",
      "metadata": {
        "id": "s9-w7vojVweF",
        "colab_type": "code",
        "colab": {}
      },
      "source": [
        "##Create an input our network expects\n",
        "input_image= caffe.io.load_image('/dli/data/fromnest.PNG')\n",
        "input_image=cv2.resize(input_image, (256, 256), 0,0)\n",
        "ready_image = input_image-mean_image\n",
        "##Treat our network as a function that takes an input and generates an output\n",
        "prediction = net.predict([ready_image])\n",
        "print(\"Input Image:\")\n",
        "plt.imshow(input_image)\n",
        "plt.show()\n",
        "print(prediction)\n",
        "##Create a useful output\n",
        "print(\"Output:\")\n",
        "if prediction.argmax()==0:\n",
        "    print \"Sorry cat:( https://media.giphy.com/media/jb8aFEQk3tADS/giphy.gif\"\n",
        "else:\n",
        "    print \"Welcome dog! https://www.flickr.com/photos/aidras/5379402670\""
      ],
      "execution_count": 0,
      "outputs": []
    },
    {
      "cell_type": "markdown",
      "metadata": {
        "id": "SA8mSqMiVweG",
        "colab_type": "text"
      },
      "source": [
        "Essentially, we've created a simulator for our doggy door challenge. We've created an application that takes an input from a camera, converts it to a data type our network expects, generates an output, and then converts that output into something useful to a user. \n",
        "\n",
        "You could see how you might easily have a positive output control a motor in a doggy door. With regards to deep learning, you have what you need! To see what other images you can try in the code block above, <code>list</code> the test images (images that weren't used for training) can be found by running the command below. Expect some of these images to output the wrong classification. Test them until you're satisfied and then continue in the course to find out how to improve performance!"
      ]
    },
    {
      "cell_type": "code",
      "metadata": {
        "scrolled": false,
        "id": "kEFWfkpXVweH",
        "colab_type": "code",
        "colab": {}
      },
      "source": [
        "!ls /dli/data/dogscats/test"
      ],
      "execution_count": 0,
      "outputs": []
    },
    {
      "cell_type": "markdown",
      "metadata": {
        "id": "cM8KArcgVweI",
        "colab_type": "text"
      },
      "source": [
        "## Putting it all together\n",
        "\n",
        "Let's put this deployment process together to see how it might look outside of this Jupyter notebook. In the Python file at [pythondeployment.py](../../../../edit/tasks/task3/task/pythondeployment.py), you'll see the same code as above, but consolidated into one file. You'll use this approach during your end of course assessment, so take a look. Insert the filepath to a test image here to visualize it. "
      ]
    },
    {
      "cell_type": "code",
      "metadata": {
        "scrolled": true,
        "id": "B3Cq7mhEVweJ",
        "colab_type": "code",
        "colab": {}
      },
      "source": [
        "TEST_IMAGE = '/dli/data/dogscats/test/1.jpg'\n",
        "display= caffe.io.load_image(TEST_IMAGE)\n",
        "plt.imshow(display)\n",
        "plt.show()"
      ],
      "execution_count": 0,
      "outputs": []
    },
    {
      "cell_type": "markdown",
      "metadata": {
        "id": "28-O0VZYVweK",
        "colab_type": "text"
      },
      "source": [
        "And then run our small python application with that image as input below. Ignore most of the output and scroll to the bottom. (Even errors and warnings are fine.)"
      ]
    },
    {
      "cell_type": "code",
      "metadata": {
        "scrolled": false,
        "id": "0651Ng5GVweL",
        "colab_type": "code",
        "colab": {}
      },
      "source": [
        "!python pythondeployment.py $TEST_IMAGE 2>/dev/null"
      ],
      "execution_count": 0,
      "outputs": []
    },
    {
      "cell_type": "markdown",
      "metadata": {
        "id": "30HsIuDFVweN",
        "colab_type": "text"
      },
      "source": [
        "<a href=\"https://www.nvidia.com/en-us/deep-learning-ai/education/\"> <img src=\"images/DLI Header.png\" alt=\"Header\" style=\"width: 400px;\"/> </a>"
      ]
    }
  ]
}