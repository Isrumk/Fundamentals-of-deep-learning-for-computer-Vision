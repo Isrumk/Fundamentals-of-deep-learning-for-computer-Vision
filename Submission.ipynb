{
  "nbformat": 4,
  "nbformat_minor": 0,
  "metadata": {
    "colab": {
      "name": "Submission.ipynb",
      "version": "0.3.2",
      "provenance": [],
      "include_colab_link": true
    },
    "kernelspec": {
      "name": "python3",
      "display_name": "Python 3"
    }
  },
  "cells": [
    {
      "cell_type": "markdown",
      "metadata": {
        "id": "view-in-github",
        "colab_type": "text"
      },
      "source": [
        "<a href=\"https://colab.research.google.com/github/Isrumk/Fundamentals-of-deep-learning-for-computer-Vision/blob/master/Submission.ipynb\" target=\"_parent\"><img src=\"https://colab.research.google.com/assets/colab-badge.svg\" alt=\"Open In Colab\"/></a>"
      ]
    },
    {
      "cell_type": "code",
      "metadata": {
        "id": "JcyScgqDUrVy",
        "colab_type": "code",
        "colab": {}
      },
      "source": [
        "import caffe\n",
        "import cv2\n",
        "import sys\n",
        "\n",
        "\n",
        "def deploy(img_path):\n",
        "\n",
        "    caffe.set_mode_gpu()\n",
        "    MODEL_JOB_DIR='/dli/data/digits/20190902-120542-fbb4'\n",
        "    ARCHITECTURE = MODEL_JOB_DIR + '/' + 'deploy.prototxt'\n",
        "    WEIGHTS = MODEL_JOB_DIR + '/' + 'snapshot_iter_1620.caffemodel'\n",
        "    \n",
        "    \n",
        "    # Initialize the Caffe model using the model trained in DIGITS. Which two files constitute your trained model?\n",
        "    net = caffe.Classifier(ARCHITECTURE, WEIGHTS ,\n",
        "                           channel_swap=(2,1,0),\n",
        "                           raw_scale=255,\n",
        "                           image_dims=(256, 256))\n",
        "                       \n",
        "\n",
        "    # Create an input that the network expects. This is different for each project, so don't worry about the exact steps, but find the dataset job directory to show you know that whatever preprocessing is done during training must also be done during deployment.\n",
        "    input_image= caffe.io.load_image(img_path)\n",
        "    input_image = cv2.resize(input_image, (256,256))\n",
        "    mean_image = caffe.io.load_image('/dli/data/digits/20190902-115859-cd7a/mean.jpg')\n",
        "    input_image = input_image-mean_image\n",
        "\n",
        "    # Make prediction. What is the function and the input to the function needed to make a prediction?\n",
        "    prediction = net.predict([input_image])##REPLACE WITH THE FUNCTION THAT RETURNS THE OUTPUT OF THE NETWORK##([##REPLACE WITH THE INPUT TO THE FUNCTION##])\n",
        "    if prediction.argmax()== 0 :\n",
        "        return \"whale\"\n",
        "    else:\n",
        "        return \"not whale\"\n",
        "\n",
        "    \n",
        "##Ignore this part    \n",
        "if __name__ == '__main__':\n",
        "    print(deploy(sys.argv[1]))"
      ],
      "execution_count": 0,
      "outputs": []
    }
  ]
}